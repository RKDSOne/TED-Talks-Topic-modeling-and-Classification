{
 "cells": [
  {
   "cell_type": "code",
   "execution_count": 2,
   "metadata": {
    "collapsed": true
   },
   "outputs": [],
   "source": [
    "import requests\n",
    "from bs4 import BeautifulSoup\n",
    "import re"
   ]
  },
  {
   "cell_type": "code",
   "execution_count": 12,
   "metadata": {
    "collapsed": false
   },
   "outputs": [],
   "source": [
    "def get_talk(soup):\n",
    "    talk = soup.find_all(\"span\",class_ = \"talk-transcript__fragment\")\n",
    "    text = \"\"\n",
    "    for t in talk:\n",
    "        k = re.findall(r\">(.+)<\",str(t))\n",
    "        if k != []:\n",
    "            text =text+k[0]\n",
    "    return text"
   ]
  },
  {
   "cell_type": "code",
   "execution_count": 286,
   "metadata": {
    "collapsed": false
   },
   "outputs": [],
   "source": [
    "def scrape(l):\n",
    "    for i in l:\n",
    "        views_url = \"https://www.ted.com/talks/\"+i\n",
    "        sub_url = \"https://www.ted.com/talks/\"+i+\"/transcript?language=en\"\n",
    "        r = requests.get(sub_url)\n",
    "        soup = BeautifulSoup(r.text, 'lxml')\n",
    "#         if re.findall(r\">(.+)<\",str(soup.find_all(\"h4\",class_=\"h12 talk-link__speaker\"))) !=[]\n",
    "#             speaker = re.findall(r\">(.+)<\",str(soup.find_all(\"h4\",class_=\"h12 talk-link__speaker\")))[0]\n",
    "        \n",
    "        r_v = requests.get(views_url)\n",
    "        soup_v = BeautifulSoup(r_v.text, 'lxml')\n",
    "\n",
    "        s = str(soup_v.find_all(\"span\",class_=\" f:6 f-w:700 l-s:t l-h:d \"))\n",
    "        s = str(re.findall(r\"\\n\\t\\t(.+)\\n\\t<\",s))\n",
    "        views = s.replace(\",\",\"\").replace(\"'\",\"\").replace(\"[\",\"\").replace(\"]\",\"\")\n",
    "        speech = get_talk(soup)\n",
    "        if len(speech) > 500:\n",
    "            text = i+\"\\n\"+views+\"\\n\\n\"+speech+\"\\n\\n\\n\\n\"\n",
    "     \n",
    "#         encode_str = text.encode('utf-8')\n",
    "        with open(\"design.txt\", \"a\") as myfile:\n",
    "                   myfile.write(text)\n"
   ]
  },
  {
   "cell_type": "code",
   "execution_count": 285,
   "metadata": {
    "collapsed": false
   },
   "outputs": [],
   "source": [
    "l = []\n",
    "for i in range(1,12):\n",
    "    url = \"https://www.ted.com/talks?page={}&sort=newest&topics%5B%5D=Design\".format(i)\n",
    "    r = requests.get(url)\n",
    "    soup = BeautifulSoup(r.text, 'lxml')\n",
    "\n",
    "    s = soup.find_all('a',class_=\"\",href=True)\n",
    "    for i in s:\n",
    "        name = re.findall(r'href=\"/talks/(.+)\">\\n<',str(i))\n",
    "        if name != []:\n",
    "            l.append(name[0])\n",
    "\n",
    "\n"
   ]
  },
  {
   "cell_type": "code",
   "execution_count": 287,
   "metadata": {
    "collapsed": false
   },
   "outputs": [
    {
     "data": {
      "text/plain": [
       "395"
      ]
     },
     "execution_count": 287,
     "metadata": {},
     "output_type": "execute_result"
    }
   ],
   "source": [
    "len(set(l))"
   ]
  },
  {
   "cell_type": "code",
   "execution_count": 288,
   "metadata": {
    "collapsed": false,
    "scrolled": true
   },
   "outputs": [],
   "source": [
    "scrape(l)"
   ]
  },
  {
   "cell_type": "code",
   "execution_count": 208,
   "metadata": {
    "collapsed": false
   },
   "outputs": [
    {
     "data": {
      "text/plain": [
       "'147105'"
      ]
     },
     "execution_count": 208,
     "metadata": {},
     "output_type": "execute_result"
    }
   ],
   "source": [
    "text = \"\"\n",
    "n = 0\n",
    "\n",
    "views_url = \"https://www.ted.com/talks/\"+l[n]\n",
    "sub_url = \"https://www.ted.com/talks/\"+l[n]+\"/transcript?language=en\"\n",
    "r = requests.get(sub_url)\n",
    "soup = BeautifulSoup(r.text, 'lxml')\n",
    "#         if re.findall(r\">(.+)<\",str(soup.find_all(\"h4\",class_=\"h12 talk-link__speaker\"))) !=[]\n",
    "#             speaker = re.findall(r\">(.+)<\",str(soup.find_all(\"h4\",class_=\"h12 talk-link__speaker\")))[0]\n",
    "\n",
    "r_v = requests.get(views_url)\n",
    "soup_v = BeautifulSoup(r_v.text, 'lxml')\n",
    "\n",
    "s = str(soup_v.find_all(\"span\",class_=\" f:6 f-w:700 l-s:t l-h:d \"))\n",
    "s = str(re.findall(r\"\\n\\t\\t(.+)\\n\\t<\",s))\n",
    "views = s.replace(\",\",\"\").replace(\"'\",\"\").replace(\"[\",\"\").replace(\"]\",\"\")\n",
    "\n",
    "if len()\n",
    "text = text+l[n]+\"\\n\"+views+\"\\n\\n\"+get_talk(soup)+\"\\n\\n\\n\\n\"\n"
   ]
  },
  {
   "cell_type": "code",
   "execution_count": 210,
   "metadata": {
    "collapsed": false
   },
   "outputs": [
    {
     "data": {
      "text/plain": [
       "3593"
      ]
     },
     "execution_count": 210,
     "metadata": {},
     "output_type": "execute_result"
    }
   ],
   "source": [
    "len(text)"
   ]
  },
  {
   "cell_type": "code",
   "execution_count": null,
   "metadata": {
    "collapsed": true
   },
   "outputs": [],
   "source": [
    "speakerName = parsed_body.xpath('//h4[@class=\"h12 talk-link__speaker\"]/text()')[0]"
   ]
  },
  {
   "cell_type": "code",
   "execution_count": 187,
   "metadata": {
    "collapsed": false
   },
   "outputs": [
    {
     "data": {
      "text/plain": [
       "True"
      ]
     },
     "execution_count": 187,
     "metadata": {},
     "output_type": "execute_result"
    }
   ],
   "source": [
    "re.findall(r\">(.+)<\",str(soup.find_all(\"h4\",class_=\"h12 talk-link__speaker\"))) == []\n"
   ]
  },
  {
   "cell_type": "code",
   "execution_count": 46,
   "metadata": {
    "collapsed": true
   },
   "outputs": [],
   "source": [
    "l = []\n",
    "for i in range(1,20):\n",
    "    url = \"https://www.ted.com/talks?page={}&sort=newest&topics%5B%5D=Technology\".format(i)\n",
    "    r = requests.get(url)\n",
    "    soup = BeautifulSoup(r.text, 'lxml')\n",
    "\n",
    "    s = soup.find_all('a',class_=\"\",href=True)\n",
    "    for i in s:\n",
    "        name = re.findall(r'href=\"/talks/(.+)\">\\n<',str(i))\n",
    "        if name != []:\n",
    "            l.append(name[0])\n",
    "\n",
    "\n"
   ]
  },
  {
   "cell_type": "code",
   "execution_count": null,
   "metadata": {
    "collapsed": true
   },
   "outputs": [],
   "source": [
    "l"
   ]
  },
  {
   "cell_type": "code",
   "execution_count": null,
   "metadata": {
    "collapsed": true
   },
   "outputs": [],
   "source": [
    "https://www.ted.com/talks?sort=newest&topics%5B%5D=Technology"
   ]
  },
  {
   "cell_type": "markdown",
   "metadata": {},
   "source": [
    "technology = []\n",
    "for i in range(1,20):\n",
    "    url = \"https://www.ted.com/talks?page={}&sort=newest&topics%5B%5D=Technology\".format(i)\n",
    "    r = requests.get(url)\n",
    "    soup = BeautifulSoup(r.text, 'lxml')\n",
    "\n",
    "    s = soup.find_all('a',class_=\"\",href=True)\n",
    "    l = []\n",
    "    for i in s:\n",
    "        name = re.findall(r'href=\"/talks/(.+)\">\\n<',str(i))\n",
    "        if name != []:\n",
    "            l.append(name)\n",
    "    technology.append(l)"
   ]
  },
  {
   "cell_type": "code",
   "execution_count": null,
   "metadata": {
    "collapsed": true
   },
   "outputs": [],
   "source": []
  },
  {
   "cell_type": "code",
   "execution_count": null,
   "metadata": {
    "collapsed": true
   },
   "outputs": [],
   "source": []
  },
  {
   "cell_type": "code",
   "execution_count": null,
   "metadata": {
    "collapsed": true
   },
   "outputs": [],
   "source": []
  },
  {
   "cell_type": "code",
   "execution_count": null,
   "metadata": {
    "collapsed": true
   },
   "outputs": [],
   "source": []
  },
  {
   "cell_type": "code",
   "execution_count": null,
   "metadata": {
    "collapsed": true
   },
   "outputs": [],
   "source": []
  },
  {
   "cell_type": "code",
   "execution_count": 18,
   "metadata": {
    "collapsed": false
   },
   "outputs": [
    {
     "data": {
      "text/plain": [
       "'todd_coleman_a_temporary_tattoo_that_brings_hospital_care_to_the_home'"
      ]
     },
     "execution_count": 18,
     "metadata": {},
     "output_type": "execute_result"
    }
   ],
   "source": [
    "l[0][0]"
   ]
  },
  {
   "cell_type": "code",
   "execution_count": 131,
   "metadata": {
    "collapsed": true
   },
   "outputs": [],
   "source": [
    "\n",
    "url = \"https://www.ted.com/talks/{}\".format(l[0])\n",
    "r = requests.get(url)\n",
    "soup = BeautifulSoup(r.text, 'lxml')\n"
   ]
  },
  {
   "cell_type": "code",
   "execution_count": 132,
   "metadata": {
    "collapsed": false,
    "scrolled": true
   },
   "outputs": [
    {
     "data": {
      "text/plain": [
       "[]"
      ]
     },
     "execution_count": 132,
     "metadata": {},
     "output_type": "execute_result"
    }
   ],
   "source": [
    "re.findall(r\">(.+)<\",str(soup.find_all(\"span\",class_=\" f:6 f-w:700 l-s:t l-h:d \")[0]))"
   ]
  },
  {
   "cell_type": "code",
   "execution_count": 152,
   "metadata": {
    "collapsed": false
   },
   "outputs": [
    {
     "data": {
      "text/plain": [
       "[]"
      ]
     },
     "execution_count": 152,
     "metadata": {},
     "output_type": "execute_result"
    }
   ],
   "source": [
    "s = str(soup.find_all(\"span\",class_=\" f:6 f-w:700 l-s:t l-h:d \"))\n",
    "re.findall(r\">\\\\n\\\\t\\\\t(.+)\\\\n\\\\t<\",s[1])"
   ]
  },
  {
   "cell_type": "code",
   "execution_count": 154,
   "metadata": {
    "collapsed": false
   },
   "outputs": [
    {
     "data": {
      "text/plain": [
       "'[<span class=\" f:6 f-w:700 l-s:t l-h:d \">\\n\\t\\t146,673\\n\\t</span>]'"
      ]
     },
     "execution_count": 154,
     "metadata": {},
     "output_type": "execute_result"
    }
   ],
   "source": [
    "s"
   ]
  },
  {
   "cell_type": "code",
   "execution_count": 163,
   "metadata": {
    "collapsed": false
   },
   "outputs": [
    {
     "data": {
      "text/plain": [
       "['146,673']"
      ]
     },
     "execution_count": 163,
     "metadata": {},
     "output_type": "execute_result"
    }
   ],
   "source": []
  },
  {
   "cell_type": "code",
   "execution_count": 172,
   "metadata": {
    "collapsed": false
   },
   "outputs": [
    {
     "data": {
      "text/plain": [
       "'146673'"
      ]
     },
     "execution_count": 172,
     "metadata": {},
     "output_type": "execute_result"
    }
   ],
   "source": [
    "s = str(soup.find_all(\"span\",class_=\" f:6 f-w:700 l-s:t l-h:d \"))\n",
    "s = str(re.findall(r\"\\n\\t\\t(.+)\\n\\t<\",s))\n",
    "v = s.replace(\",\",\"\").replace(\"'\",\"\").replace(\"[\",\"\").replace(\"]\",\"\")\n",
    "v"
   ]
  },
  {
   "cell_type": "markdown",
   "metadata": {
    "collapsed": true
   },
   "source": [
    "re.findall(r'\\(\"talkPage.initBreakdown\",(([0-9+])*)\\)',str(soup(\"script\")))"
   ]
  },
  {
   "cell_type": "markdown",
   "metadata": {},
   "source": [
    "</div>\n",
    "<script>q(\"talkPage.initBreakdown\",[{\"label\":\"TED.com\",\"value\":30},{\"label\":\"TED apps\",\"value\":17},{\"label\":\"iTunes\",\"value\":34},{\"label\":\"Other\",\"value\":19}])</script>"
   ]
  },
  {
   "cell_type": "code",
   "execution_count": null,
   "metadata": {
    "collapsed": true
   },
   "outputs": [],
   "source": []
  }
 ],
 "metadata": {
  "anaconda-cloud": {},
  "kernelspec": {
   "display_name": "Python [Root]",
   "language": "python",
   "name": "Python [Root]"
  },
  "language_info": {
   "codemirror_mode": {
    "name": "ipython",
    "version": 3
   },
   "file_extension": ".py",
   "mimetype": "text/x-python",
   "name": "python",
   "nbconvert_exporter": "python",
   "pygments_lexer": "ipython3",
   "version": "3.5.2"
  }
 },
 "nbformat": 4,
 "nbformat_minor": 0
}
